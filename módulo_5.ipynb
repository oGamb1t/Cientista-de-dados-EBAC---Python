{
  "nbformat": 4,
  "nbformat_minor": 0,
  "metadata": {
    "colab": {
      "provenance": [],
      "authorship_tag": "ABX9TyMCu5uNCJbLSOpBNtQw/GIY",
      "include_colab_link": true
    },
    "kernelspec": {
      "name": "python3",
      "display_name": "Python 3"
    },
    "language_info": {
      "name": "python"
    }
  },
  "cells": [
    {
      "cell_type": "markdown",
      "metadata": {
        "id": "view-in-github",
        "colab_type": "text"
      },
      "source": [
        "<a href=\"https://colab.research.google.com/github/oGamb1t/Cientista-de-dados-EBAC---Python/blob/main/m%C3%B3dulo_5.ipynb\" target=\"_parent\"><img src=\"https://colab.research.google.com/assets/colab-badge.svg\" alt=\"Open In Colab\"/></a>"
      ]
    },
    {
      "cell_type": "markdown",
      "source": [
        "### Calculadora média ou soma das notas do usuário"
      ],
      "metadata": {
        "id": "ogQHi9Q85KC9"
      }
    },
    {
      "cell_type": "code",
      "source": [
        "notas_prova = []\n",
        "notas_trabalho = []\n",
        "contador = 1 ##Contador para marcar o número de vezes que as notas foram inseridas\n",
        "\n",
        "\"\"\" Laço para inserir as notas das provas e trabalhos, com verificação de erro \"\"\"\n",
        "while True:\n",
        "    try:\n",
        "        print(\"NOTAS \", contador, \"!\")\n",
        "        notaProva = float(input(f\"Digite a nota da prova {contador} (ou digite 'fim' para encerrar): \"))\n",
        "        notas_prova.append(notaProva)\n",
        "        notaTrabalho = float(input(f\"Digite a nota do trabalho {contador} (ou digite 'fim' para encerrar): \"))\n",
        "        notas_trabalho.append(notaTrabalho)\n",
        "\n",
        "        print(notas_prova)\n",
        "        print(notas_trabalho)\n",
        "\n",
        "        contador += 1\n",
        "    except ValueError: ##Verifica algum valor inválido\n",
        "        if input(\"Deseja encerrar? (s/n): \").lower() == \"s\":##condição para escolha\n",
        "            break\n",
        "        else:\n",
        "            print(\"Entrada inválida. Digite um número ou 'fim'.\")\n",
        "            continue\n",
        "\n",
        "if not notas_prova and notas_trabalho: ##verificação se há algum valor na lista\n",
        "    print(\"Nenhuma nota foi inserida.\")\n",
        "else:\n",
        "    operacao = input(\"Deseja calcular a média (m) ou a soma (s) das notas? \").lower() ##escolha de operação que o usuário deseja\n",
        "\n",
        "    if operacao == \"m\": ##condição para conta das médias\n",
        "        media_provas = sum(notas_prova) / len(notas_prova)\n",
        "        media_trabalhos = sum(notas_trabalho) / len(notas_trabalho)\n",
        "        media_final = (media_provas + media_trabalhos) / 2\n",
        "\n",
        "        print(f\"A média das provas é: {media_provas}\")\n",
        "        print(f\"A média dos trabalhos é: {media_trabalhos}\")\n",
        "        print(f\"A média final é: {media_final}\")\n",
        "\n",
        "    elif operacao == \"s\": ## condição para conta de soma\n",
        "        soma_provas = sum(notas_prova)\n",
        "        soma_trabalhos = sum(notas_trabalho)\n",
        "\n",
        "        print(f\"A soma das provas é: {soma_provas}\")\n",
        "        print(f\"A soma dos trabalhos é: {soma_trabalhos}\")\n",
        "\n",
        "    else:\n",
        "        print(\"Operação inválida. Escolha 'm' para média ou 's' para soma.\")"
      ],
      "metadata": {
        "colab": {
          "base_uri": "https://localhost:8080/"
        },
        "id": "UqGeer85L9nt",
        "outputId": "93bf00d9-e89e-4624-e3cb-ccfce12299f0"
      },
      "execution_count": null,
      "outputs": [
        {
          "output_type": "stream",
          "name": "stdout",
          "text": [
            "NOTAS  1 !\n",
            "Digite a nota da prova 1 (ou digite 'fim' para encerrar): 2\n",
            "Digite a nota do trabalho 1 (ou digite 'fim' para encerrar): 10\n",
            "NOTAS  2 !\n",
            "Digite a nota da prova 2 (ou digite 'fim' para encerrar): 6\n",
            "Digite a nota do trabalho 2 (ou digite 'fim' para encerrar): 10\n",
            "NOTAS  3 !\n",
            "Digite a nota da prova 3 (ou digite 'fim' para encerrar): 10\n",
            "Digite a nota do trabalho 3 (ou digite 'fim' para encerrar): 11\n",
            "NOTAS  4 !\n",
            "Digite a nota da prova 4 (ou digite 'fim' para encerrar): s\n",
            "Deseja encerrar? (s/n): s\n",
            "Deseja calcular a média (m) ou a soma (s) das notas? m\n",
            "A média das provas é: 6.0\n",
            "A média dos trabalhos é: 10.333333333333334\n",
            "A média final é: 8.166666666666668\n"
          ]
        }
      ]
    }
  ]
}